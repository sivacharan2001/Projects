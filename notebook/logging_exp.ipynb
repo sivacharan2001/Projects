{
 "cells": [
  {
   "cell_type": "code",
   "execution_count": 6,
   "id": "146ea91f",
   "metadata": {},
   "outputs": [],
   "source": [
    "import logging\n",
    "import os\n",
    "from datetime import datetime"
   ]
  },
  {
   "cell_type": "code",
   "execution_count": 4,
   "id": "9fe9e933",
   "metadata": {},
   "outputs": [],
   "source": [
    "logs_dir = os.path.join(os.getcwd(),\"logs\")"
   ]
  },
  {
   "cell_type": "code",
   "execution_count": 5,
   "id": "1f4aedea",
   "metadata": {},
   "outputs": [],
   "source": [
    "os.makedirs(logs_dir, exist_ok=True)"
   ]
  },
  {
   "cell_type": "code",
   "execution_count": 7,
   "id": "bc33a47c",
   "metadata": {},
   "outputs": [],
   "source": [
    "LOG_FILE = f\"{datetime.now().strftime('%m_%d_%Y_%H_%M_%S')}.log\""
   ]
  },
  {
   "cell_type": "code",
   "execution_count": 8,
   "id": "4732e64e",
   "metadata": {},
   "outputs": [
    {
     "data": {
      "text/plain": [
       "'07_27_2025_11_20_51.log'"
      ]
     },
     "execution_count": 8,
     "metadata": {},
     "output_type": "execute_result"
    }
   ],
   "source": [
    "LOG_FILE"
   ]
  },
  {
   "cell_type": "code",
   "execution_count": 17,
   "id": "725c62c8",
   "metadata": {},
   "outputs": [],
   "source": [
    "LOG_FILE_PATH=os.path.join(logs_dir, LOG_FILE)"
   ]
  },
  {
   "cell_type": "code",
   "execution_count": 24,
   "id": "43167dc0",
   "metadata": {},
   "outputs": [],
   "source": [
    "logging.basicConfig(\n",
    "    filename=LOG_FILE_PATH,\n",
    "    format= \"[%(asctime)s] - %(levelname)s %(name)s (line: %(lineno)d) - %(message)s\",\n",
    "    level=logging.INFO\n",
    ")"
   ]
  },
  {
   "cell_type": "code",
   "execution_count": 25,
   "id": "bb78c4c7",
   "metadata": {},
   "outputs": [],
   "source": [
    "logger= logging.getLogger(\"Document portal\")"
   ]
  },
  {
   "cell_type": "code",
   "execution_count": 26,
   "id": "792bff3d",
   "metadata": {},
   "outputs": [],
   "source": [
    "logger.info(\"This is an info message\")"
   ]
  },
  {
   "cell_type": "code",
   "execution_count": 28,
   "id": "735c4685",
   "metadata": {},
   "outputs": [],
   "source": [
    "import structlog\n",
    "logger = structlog.get_logger()"
   ]
  },
  {
   "cell_type": "code",
   "execution_count": 29,
   "id": "d9bf3028",
   "metadata": {},
   "outputs": [
    {
     "name": "stdout",
     "output_type": "stream",
     "text": [
      "2025-07-27 12:47:11 [info     ] User uploaded a file           filename=report.pdf user_id=123\n"
     ]
    }
   ],
   "source": [
    "logger.info(\"User uploaded a file\", user_id=123, filename=\"report.pdf\")"
   ]
  },
  {
   "cell_type": "code",
   "execution_count": null,
   "id": "8e76c137",
   "metadata": {},
   "outputs": [],
   "source": []
  }
 ],
 "metadata": {
  "kernelspec": {
   "display_name": "Python 3",
   "language": "python",
   "name": "python3"
  },
  "language_info": {
   "codemirror_mode": {
    "name": "ipython",
    "version": 3
   },
   "file_extension": ".py",
   "mimetype": "text/x-python",
   "name": "python",
   "nbconvert_exporter": "python",
   "pygments_lexer": "ipython3",
   "version": "3.12.11"
  }
 },
 "nbformat": 4,
 "nbformat_minor": 5
}
